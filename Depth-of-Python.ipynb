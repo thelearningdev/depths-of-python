{
 "cells": [
  {
   "cell_type": "markdown",
   "id": "643e1193-31b7-4a8f-b585-32cea8746ab3",
   "metadata": {},
   "source": [
    "# Depths of Python"
   ]
  },
  {
   "cell_type": "code",
   "execution_count": 14,
   "id": "17d352d5-d5a3-4d80-8bbd-3d79bf27c775",
   "metadata": {},
   "outputs": [],
   "source": [
    "import time\n",
    "import sys"
   ]
  },
  {
   "cell_type": "markdown",
   "id": "25addf8b-2829-4b21-a742-5fb49ace1795",
   "metadata": {},
   "source": [
    "## Memory Management"
   ]
  },
  {
   "cell_type": "code",
   "execution_count": 15,
   "id": "a551e33a-7665-4ade-8348-5ab87a294451",
   "metadata": {},
   "outputs": [],
   "source": [
    "x = 256\n",
    "y = 256"
   ]
  },
  {
   "cell_type": "code",
   "execution_count": 16,
   "id": "c8d7942b-f09a-43f9-b3d9-5fc196060c16",
   "metadata": {},
   "outputs": [
    {
     "data": {
      "text/plain": [
       "4350694824"
      ]
     },
     "execution_count": 16,
     "metadata": {},
     "output_type": "execute_result"
    }
   ],
   "source": [
    "id(x)"
   ]
  },
  {
   "cell_type": "code",
   "execution_count": 17,
   "id": "70bb6706-3e3c-4e02-b3a0-bb0e49e15905",
   "metadata": {},
   "outputs": [
    {
     "data": {
      "text/plain": [
       "4350694824"
      ]
     },
     "execution_count": 17,
     "metadata": {},
     "output_type": "execute_result"
    }
   ],
   "source": [
    "id(y)"
   ]
  },
  {
   "cell_type": "code",
   "execution_count": 18,
   "id": "c05b06c9-7cdc-41d0-978d-931f31491787",
   "metadata": {},
   "outputs": [
    {
     "data": {
      "text/plain": [
       "True"
      ]
     },
     "execution_count": 18,
     "metadata": {},
     "output_type": "execute_result"
    }
   ],
   "source": [
    "id(x) == id(y)"
   ]
  },
  {
   "cell_type": "code",
   "execution_count": 19,
   "id": "2b2bc401-7fb0-421f-a966-a69850756eb1",
   "metadata": {},
   "outputs": [],
   "source": [
    "x = 257"
   ]
  },
  {
   "cell_type": "code",
   "execution_count": 20,
   "id": "98e95fd3-885c-4b39-b9bc-a3163e223cdc",
   "metadata": {},
   "outputs": [],
   "source": [
    "y = 257"
   ]
  },
  {
   "cell_type": "code",
   "execution_count": 21,
   "id": "804d9780-6425-4f59-812a-cfae451672b3",
   "metadata": {},
   "outputs": [
    {
     "data": {
      "text/plain": [
       "False"
      ]
     },
     "execution_count": 21,
     "metadata": {},
     "output_type": "execute_result"
    }
   ],
   "source": [
    "id(x) == id(y)"
   ]
  },
  {
   "cell_type": "markdown",
   "id": "b1d5d916-549d-4159-bd5d-18516359d40f",
   "metadata": {},
   "source": [
    "### Reference Count and Garbage Collection "
   ]
  },
  {
   "cell_type": "code",
   "execution_count": 46,
   "id": "88eb7d4e-11c1-40c7-927d-bbdd11ee24b3",
   "metadata": {},
   "outputs": [],
   "source": [
    "l = [10, 100]\n",
    "l1 = l"
   ]
  },
  {
   "cell_type": "code",
   "execution_count": 47,
   "id": "c7b6d286-3aa7-4ef2-abff-deb989aa7b1a",
   "metadata": {},
   "outputs": [
    {
     "data": {
      "text/plain": [
       "3"
      ]
     },
     "execution_count": 47,
     "metadata": {},
     "output_type": "execute_result"
    }
   ],
   "source": [
    "sys.getrefcount(l)"
   ]
  },
  {
   "cell_type": "code",
   "execution_count": 48,
   "id": "ffe7620b-3d50-4262-a647-d973c1bdb9cb",
   "metadata": {},
   "outputs": [],
   "source": [
    "del l1"
   ]
  },
  {
   "cell_type": "code",
   "execution_count": 49,
   "id": "347aaf3a-f66c-428c-b5c7-6d2609c2604d",
   "metadata": {},
   "outputs": [
    {
     "data": {
      "text/plain": [
       "2"
      ]
     },
     "execution_count": 49,
     "metadata": {},
     "output_type": "execute_result"
    }
   ],
   "source": [
    "sys.getrefcount(l)"
   ]
  },
  {
   "cell_type": "markdown",
   "id": "e74cc1ac-0071-4afc-b402-c627616ba2b8",
   "metadata": {
    "jp-MarkdownHeadingCollapsed": true
   },
   "source": [
    "## Truth or False"
   ]
  },
  {
   "cell_type": "code",
   "execution_count": null,
   "id": "d2dd5e90-6f01-4919-8047-eea3d587c680",
   "metadata": {},
   "outputs": [],
   "source": [
    "True, False"
   ]
  },
  {
   "cell_type": "code",
   "execution_count": null,
   "id": "490a88ee-489a-4ce7-b3e9-b72856a91110",
   "metadata": {},
   "outputs": [],
   "source": [
    "if True:\n",
    "    print (\"I'm true\")"
   ]
  },
  {
   "cell_type": "code",
   "execution_count": null,
   "id": "fe64b945-fc63-49f8-88a3-6a4cd9d9e01f",
   "metadata": {},
   "outputs": [],
   "source": [
    "if False:\n",
    "    print (\"no print\")"
   ]
  },
  {
   "cell_type": "code",
   "execution_count": null,
   "id": "1fcb0d4e-72e8-4277-96ec-bed017e1b0a4",
   "metadata": {},
   "outputs": [],
   "source": [
    "bool(True)"
   ]
  },
  {
   "cell_type": "code",
   "execution_count": null,
   "id": "9a5f4407-5709-48e5-b406-2bb74ff6fb43",
   "metadata": {},
   "outputs": [],
   "source": [
    "x = [True, True, False]"
   ]
  },
  {
   "cell_type": "code",
   "execution_count": null,
   "id": "61dbbcc2-3570-4aac-b6df-8634c382b6a2",
   "metadata": {},
   "outputs": [],
   "source": [
    "all(x)"
   ]
  },
  {
   "cell_type": "code",
   "execution_count": null,
   "id": "ff2fd0a0-2193-4819-8ef9-d7058f48591c",
   "metadata": {},
   "outputs": [],
   "source": [
    "any(x)"
   ]
  },
  {
   "cell_type": "code",
   "execution_count": null,
   "id": "1006373d-873c-42a6-87cb-e365b97a3ac7",
   "metadata": {},
   "outputs": [],
   "source": [
    "x = 10\n",
    "y = 10 \n",
    "a = 10"
   ]
  },
  {
   "cell_type": "code",
   "execution_count": null,
   "id": "b36fce6e-06bb-4800-91b3-76e5ca8fe2f8",
   "metadata": {},
   "outputs": [],
   "source": [
    "x == y == a "
   ]
  },
  {
   "cell_type": "code",
   "execution_count": null,
   "id": "5436701b-59f4-44ba-9c3a-aabb36c99208",
   "metadata": {},
   "outputs": [],
   "source": [
    "# Change a to 15 and see what happens?\n",
    "# Figure out why?"
   ]
  },
  {
   "cell_type": "code",
   "execution_count": null,
   "id": "6333fc15-5ed0-4bf7-b99f-213cca44028f",
   "metadata": {},
   "outputs": [],
   "source": [
    "# Singleton comparison"
   ]
  },
  {
   "cell_type": "code",
   "execution_count": null,
   "id": "d383ff6f-35b0-4ef0-8bd7-0e624f04495f",
   "metadata": {},
   "outputs": [],
   "source": [
    "x is True, y is False, a is None == False"
   ]
  },
  {
   "cell_type": "code",
   "execution_count": 57,
   "id": "abc76266-ce3d-4a8b-9336-8de0fdb4e7bb",
   "metadata": {},
   "outputs": [
    {
     "data": {
      "text/plain": [
       "True"
      ]
     },
     "execution_count": 57,
     "metadata": {},
     "output_type": "execute_result"
    }
   ],
   "source": [
    "1 == True"
   ]
  },
  {
   "cell_type": "code",
   "execution_count": 36,
   "id": "59c3a027-4fc1-45d8-af4f-14981457fc61",
   "metadata": {},
   "outputs": [],
   "source": [
    "a = 0\n",
    "b = {}\n",
    "c = [0]"
   ]
  },
  {
   "cell_type": "code",
   "execution_count": 37,
   "id": "818a9568-8469-4425-bf40-55d1a3f8b156",
   "metadata": {},
   "outputs": [
    {
     "data": {
      "text/plain": [
       "(False, False, True)"
      ]
     },
     "execution_count": 37,
     "metadata": {},
     "output_type": "execute_result"
    }
   ],
   "source": [
    "bool(a), bool(b), bool(c)"
   ]
  },
  {
   "cell_type": "code",
   "execution_count": 42,
   "id": "1e6a9fc6-d28f-4fad-af87-36b8467aaec5",
   "metadata": {},
   "outputs": [
    {
     "data": {
      "text/plain": [
       "True"
      ]
     },
     "execution_count": 42,
     "metadata": {},
     "output_type": "execute_result"
    }
   ],
   "source": [
    "a == False"
   ]
  },
  {
   "cell_type": "code",
   "execution_count": 43,
   "id": "ace55af1-d316-4473-886e-99ee95c85429",
   "metadata": {},
   "outputs": [],
   "source": [
    "if a:\n",
    "    print (f\"a={a}\")"
   ]
  },
  {
   "cell_type": "markdown",
   "id": "5e547fe4-fc00-44b1-becf-5c8843f16edd",
   "metadata": {
    "jp-MarkdownHeadingCollapsed": true
   },
   "source": [
    "## Data Structures"
   ]
  },
  {
   "cell_type": "code",
   "execution_count": 73,
   "id": "9a778f3e-135f-4f83-8a31-0ac750859954",
   "metadata": {},
   "outputs": [],
   "source": [
    "list_l1 = [1, 2, 3]\n",
    "tuple_t1 = (1, 2, 3)\n",
    "set_s1 = {1, 2, tuple_t1}\n",
    "\n",
    "d = {1: list_l1, 2: tuple_t1, 3: set_s1}"
   ]
  },
  {
   "cell_type": "code",
   "execution_count": 69,
   "id": "5ebca2fa-f3e0-4b4d-8459-23886aec6c77",
   "metadata": {},
   "outputs": [
    {
     "data": {
      "text/plain": [
       "[1, 2, 3]"
      ]
     },
     "execution_count": 69,
     "metadata": {},
     "output_type": "execute_result"
    }
   ],
   "source": [
    "list_l1"
   ]
  },
  {
   "cell_type": "code",
   "execution_count": 70,
   "id": "aa90837b-76ba-42c1-99c8-721663dcb820",
   "metadata": {},
   "outputs": [
    {
     "data": {
      "text/plain": [
       "{(1, 2, 3), 1, 2}"
      ]
     },
     "execution_count": 70,
     "metadata": {},
     "output_type": "execute_result"
    }
   ],
   "source": [
    "set_s1"
   ]
  },
  {
   "cell_type": "code",
   "execution_count": 71,
   "id": "7cdea89c-3a5e-4995-a47d-04f9bf62d90e",
   "metadata": {},
   "outputs": [
    {
     "data": {
      "text/plain": [
       "(1, 2, 3)"
      ]
     },
     "execution_count": 71,
     "metadata": {},
     "output_type": "execute_result"
    }
   ],
   "source": [
    "tuple_t1"
   ]
  },
  {
   "cell_type": "code",
   "execution_count": 72,
   "id": "ee8759bf-cfef-4ba2-ab29-513fc851b65b",
   "metadata": {},
   "outputs": [
    {
     "data": {
      "text/plain": [
       "{1: [1, 2, 3]}"
      ]
     },
     "execution_count": 72,
     "metadata": {},
     "output_type": "execute_result"
    }
   ],
   "source": [
    "d"
   ]
  },
  {
   "cell_type": "markdown",
   "id": "2423ac9b-8b1f-4591-a53c-963db35816ba",
   "metadata": {
    "jp-MarkdownHeadingCollapsed": true
   },
   "source": [
    "## Memory management List and Dict"
   ]
  },
  {
   "cell_type": "code",
   "execution_count": 22,
   "id": "329d7d2e-86ba-4b6e-9228-0a3d049fbdca",
   "metadata": {},
   "outputs": [],
   "source": [
    "x = 256\n",
    "y = 256"
   ]
  },
  {
   "cell_type": "code",
   "execution_count": 23,
   "id": "ad11c24c-cdb1-4bc8-8382-683dc0647a5c",
   "metadata": {},
   "outputs": [],
   "source": [
    "l1 = [x, y]"
   ]
  },
  {
   "cell_type": "code",
   "execution_count": 24,
   "id": "fffadfa6-3c45-4a0d-bc1e-426eef38ce16",
   "metadata": {},
   "outputs": [],
   "source": [
    "l2 = [x, y, 256]"
   ]
  },
  {
   "cell_type": "code",
   "execution_count": 25,
   "id": "6a88f5e3-95ff-447d-9d2d-58313b717a10",
   "metadata": {},
   "outputs": [
    {
     "data": {
      "text/plain": [
       "(256, 256)"
      ]
     },
     "execution_count": 25,
     "metadata": {},
     "output_type": "execute_result"
    }
   ],
   "source": [
    "# l1 and l2's 1st item are both of value _______ from variable ______ ?\n",
    "\n",
    "l1[0], l2[0]"
   ]
  },
  {
   "cell_type": "code",
   "execution_count": null,
   "id": "5a7ba260-85ee-4a37-a37c-b568d49a7144",
   "metadata": {},
   "outputs": [],
   "source": []
  },
  {
   "cell_type": "markdown",
   "id": "2a9d8db8-e593-430d-9d0a-4cb4a9e1ce59",
   "metadata": {
    "jp-MarkdownHeadingCollapsed": true
   },
   "source": [
    "## What's in the box?"
   ]
  },
  {
   "cell_type": "code",
   "execution_count": 74,
   "id": "b13d8f97-4da7-4c9f-bb83-98bc01bde979",
   "metadata": {},
   "outputs": [
    {
     "ename": "TypeError",
     "evalue": "unhashable type: 'list'",
     "output_type": "error",
     "traceback": [
      "\u001b[31m---------------------------------------------------------------------------\u001b[39m",
      "\u001b[31mTypeError\u001b[39m                                 Traceback (most recent call last)",
      "\u001b[36mCell\u001b[39m\u001b[36m \u001b[39m\u001b[32mIn[74]\u001b[39m\u001b[32m, line 6\u001b[39m\n\u001b[32m      1\u001b[39m \u001b[38;5;66;03m# Draw the memory reference diagram for the above data sturcutre\u001b[39;00m\n\u001b[32m      2\u001b[39m \n\u001b[32m      3\u001b[39m \u001b[38;5;66;03m# if you make tuple_t1 = (1, 2, list_l1) what happens to set_s1? Why?\u001b[39;00m\n\u001b[32m      5\u001b[39m tuple_t1 = (\u001b[32m1\u001b[39m, \u001b[32m2\u001b[39m, list_l1)\n\u001b[32m----> \u001b[39m\u001b[32m6\u001b[39m set_s1 = {\u001b[32m1\u001b[39m, tuple_t1}\n",
      "\u001b[31mTypeError\u001b[39m: unhashable type: 'list'"
     ]
    }
   ],
   "source": [
    "# Draw the memory reference diagram for the above data sturcutre\n",
    "\n",
    "# if you make tuple_t1 = (1, 2, list_l1) what happens to set_s1? Why?\n",
    "\n",
    "tuple_t1 = (1, 2, list_l1)\n",
    "set_s1 = {1, tuple_t1}"
   ]
  },
  {
   "cell_type": "code",
   "execution_count": 26,
   "id": "648bc967-90b1-4574-9a6e-e4b0e0467845",
   "metadata": {},
   "outputs": [
    {
     "data": {
      "text/plain": [
       "True"
      ]
     },
     "execution_count": 26,
     "metadata": {},
     "output_type": "execute_result"
    }
   ],
   "source": [
    "id(l1[0]) == id(l1[0]) == id(l2[2])"
   ]
  },
  {
   "cell_type": "code",
   "execution_count": 75,
   "id": "80601863-d2aa-4a0c-86a3-3ae1510d6595",
   "metadata": {},
   "outputs": [],
   "source": [
    "def special_dir(item):\n",
    "    \"\"\"\n",
    "    This function is writtern to reduce noise and focus on the important functions\n",
    "\n",
    "    If you want to use the raw form try dir(list_l1)\n",
    "    \"\"\"\n",
    "    \n",
    "    output = dir(item)\n",
    "    return [i for i in output if not i.startswith('__')]"
   ]
  },
  {
   "cell_type": "code",
   "execution_count": 51,
   "id": "1bb0d44e-bf87-46e9-8737-37ae37695caa",
   "metadata": {},
   "outputs": [
    {
     "data": {
      "text/plain": [
       "['append',\n",
       " 'clear',\n",
       " 'copy',\n",
       " 'count',\n",
       " 'extend',\n",
       " 'index',\n",
       " 'insert',\n",
       " 'pop',\n",
       " 'remove',\n",
       " 'reverse',\n",
       " 'sort']"
      ]
     },
     "execution_count": 51,
     "metadata": {},
     "output_type": "execute_result"
    }
   ],
   "source": [
    "special_dir(list_l1)"
   ]
  },
  {
   "cell_type": "code",
   "execution_count": 52,
   "id": "b3d9c4a3-213f-4096-a68b-244bdd077425",
   "metadata": {},
   "outputs": [
    {
     "data": {
      "text/plain": [
       "['add',\n",
       " 'clear',\n",
       " 'copy',\n",
       " 'difference',\n",
       " 'difference_update',\n",
       " 'discard',\n",
       " 'intersection',\n",
       " 'intersection_update',\n",
       " 'isdisjoint',\n",
       " 'issubset',\n",
       " 'issuperset',\n",
       " 'pop',\n",
       " 'remove',\n",
       " 'symmetric_difference',\n",
       " 'symmetric_difference_update',\n",
       " 'union',\n",
       " 'update']"
      ]
     },
     "execution_count": 52,
     "metadata": {},
     "output_type": "execute_result"
    }
   ],
   "source": [
    "special_dir(set_s1)"
   ]
  },
  {
   "cell_type": "code",
   "execution_count": 53,
   "id": "d4ba50db-8ffa-4aef-afc8-2d4c92f24c4d",
   "metadata": {},
   "outputs": [
    {
     "data": {
      "text/plain": [
       "['clear',\n",
       " 'copy',\n",
       " 'fromkeys',\n",
       " 'get',\n",
       " 'items',\n",
       " 'keys',\n",
       " 'pop',\n",
       " 'popitem',\n",
       " 'setdefault',\n",
       " 'update',\n",
       " 'values']"
      ]
     },
     "execution_count": 53,
     "metadata": {},
     "output_type": "execute_result"
    }
   ],
   "source": [
    "special_dir(dict)"
   ]
  },
  {
   "cell_type": "code",
   "execution_count": 76,
   "id": "36b1a2dc-daef-42ef-b99c-50ddabc210ce",
   "metadata": {},
   "outputs": [],
   "source": [
    "## What does the methods tell us?"
   ]
  },
  {
   "cell_type": "code",
   "execution_count": 77,
   "id": "da18f30d-465b-43e5-81fa-89ebe07fc411",
   "metadata": {},
   "outputs": [
    {
     "data": {
      "text/plain": [
       "['as_integer_ratio',\n",
       " 'bit_count',\n",
       " 'bit_length',\n",
       " 'conjugate',\n",
       " 'denominator',\n",
       " 'from_bytes',\n",
       " 'imag',\n",
       " 'is_integer',\n",
       " 'numerator',\n",
       " 'real',\n",
       " 'to_bytes']"
      ]
     },
     "execution_count": 77,
     "metadata": {},
     "output_type": "execute_result"
    }
   ],
   "source": [
    "special_dir(True)"
   ]
  },
  {
   "cell_type": "code",
   "execution_count": 78,
   "id": "d6558466-9388-496f-aa30-c200cf75edb2",
   "metadata": {},
   "outputs": [
    {
     "data": {
      "text/plain": [
       "['as_integer_ratio',\n",
       " 'bit_count',\n",
       " 'bit_length',\n",
       " 'conjugate',\n",
       " 'denominator',\n",
       " 'from_bytes',\n",
       " 'imag',\n",
       " 'is_integer',\n",
       " 'numerator',\n",
       " 'real',\n",
       " 'to_bytes']"
      ]
     },
     "execution_count": 78,
     "metadata": {},
     "output_type": "execute_result"
    }
   ],
   "source": [
    "special_dir(1)"
   ]
  },
  {
   "cell_type": "code",
   "execution_count": 23,
   "id": "f37a2ce5-b221-4a78-88b3-58daf50a17ba",
   "metadata": {},
   "outputs": [],
   "source": [
    "# notice how both int and bool has similar methods? why? What does that mean?"
   ]
  },
  {
   "cell_type": "markdown",
   "id": "50aab466-6c5f-47a3-bad1-da2a94ec591f",
   "metadata": {
    "jp-MarkdownHeadingCollapsed": true
   },
   "source": [
    "## Classes and Objects"
   ]
  },
  {
   "cell_type": "code",
   "execution_count": 79,
   "id": "a8426337-f7c2-4bdc-8691-e32a7aebe469",
   "metadata": {},
   "outputs": [],
   "source": [
    "class Student:\n",
    "    def __init__(self, name, age):\n",
    "        self.name = name\n",
    "        self.age = age\n",
    "\n",
    "    def __repr__(self):\n",
    "        return f'Student(\"{self.name}\", {self.age})'"
   ]
  },
  {
   "cell_type": "code",
   "execution_count": 80,
   "id": "b0a7de4f-420a-4ca8-a927-d78912f2382d",
   "metadata": {},
   "outputs": [],
   "source": [
    "s1 = Student(\"tom\", 30)\n",
    "s2 = Student(\"Sal\", 29)"
   ]
  },
  {
   "cell_type": "code",
   "execution_count": 81,
   "id": "a75ed2bd-caaa-4ef4-b40a-8009fcdcf694",
   "metadata": {},
   "outputs": [
    {
     "data": {
      "text/plain": [
       "Student(\"tom\", 30)"
      ]
     },
     "execution_count": 81,
     "metadata": {},
     "output_type": "execute_result"
    }
   ],
   "source": [
    "s1"
   ]
  },
  {
   "cell_type": "markdown",
   "id": "7306c243-e488-4172-86d6-8c7eaf2ef683",
   "metadata": {
    "jp-MarkdownHeadingCollapsed": true
   },
   "source": [
    "## Dataclasses"
   ]
  },
  {
   "cell_type": "code",
   "execution_count": 82,
   "id": "280fe74b-02ee-4057-b59d-0a4cf6a5b724",
   "metadata": {},
   "outputs": [],
   "source": [
    "from dataclasses import dataclass"
   ]
  },
  {
   "cell_type": "code",
   "execution_count": 83,
   "id": "1442d536-f6b8-41d7-8cc9-c64b9b85a211",
   "metadata": {},
   "outputs": [],
   "source": [
    "@dataclass\n",
    "class Student:\n",
    "    name: str\n",
    "    age: int"
   ]
  },
  {
   "cell_type": "code",
   "execution_count": 84,
   "id": "12ed7bc6-2b97-47f7-a40d-51f6981799bd",
   "metadata": {},
   "outputs": [
    {
     "data": {
      "text/plain": [
       "Student(name='tom', age=30)"
      ]
     },
     "execution_count": 84,
     "metadata": {},
     "output_type": "execute_result"
    }
   ],
   "source": [
    "Student('tom', 30)"
   ]
  },
  {
   "cell_type": "markdown",
   "id": "51e9f34c-be74-4559-95bc-f39a86651e03",
   "metadata": {},
   "source": [
    "### Everything is an Object"
   ]
  },
  {
   "cell_type": "code",
   "execution_count": 140,
   "id": "dbed3923-7db2-4f70-90b3-867c488ecd96",
   "metadata": {},
   "outputs": [],
   "source": [
    "class integer:\n",
    "    def __init__(self, number):\n",
    "        self.number = number"
   ]
  },
  {
   "cell_type": "code",
   "execution_count": 141,
   "id": "88fc1f0a-25b5-42a0-999e-3dff536f864b",
   "metadata": {},
   "outputs": [],
   "source": [
    "x = integer(1)"
   ]
  },
  {
   "cell_type": "code",
   "execution_count": 142,
   "id": "f6cdf03a-58a7-4801-93df-67730e63bbe0",
   "metadata": {},
   "outputs": [
    {
     "data": {
      "text/plain": [
       "type"
      ]
     },
     "execution_count": 142,
     "metadata": {},
     "output_type": "execute_result"
    }
   ],
   "source": [
    "type(x.__class__)"
   ]
  },
  {
   "cell_type": "code",
   "execution_count": 136,
   "id": "f08d79ac-1c98-4265-a8de-d5a5be5ad999",
   "metadata": {},
   "outputs": [],
   "source": [
    "x = 1"
   ]
  },
  {
   "cell_type": "code",
   "execution_count": 135,
   "id": "97b70097-66d2-46bf-b825-414a3f969ef7",
   "metadata": {},
   "outputs": [],
   "source": [
    "x = int(1)"
   ]
  },
  {
   "cell_type": "code",
   "execution_count": 134,
   "id": "184da769-c40b-4a50-92af-90eb8838be9d",
   "metadata": {},
   "outputs": [
    {
     "data": {
      "text/plain": [
       "type"
      ]
     },
     "execution_count": 134,
     "metadata": {},
     "output_type": "execute_result"
    }
   ],
   "source": [
    "type(x.__class__)"
   ]
  },
  {
   "cell_type": "markdown",
   "id": "b69d0074-5fa7-4704-9f3c-b79a860f6c41",
   "metadata": {
    "jp-MarkdownHeadingCollapsed": true
   },
   "source": [
    "## Functions in Python"
   ]
  },
  {
   "cell_type": "code",
   "execution_count": 89,
   "id": "f87dab71-22a6-453e-9e73-269a8ef7be24",
   "metadata": {},
   "outputs": [],
   "source": [
    "def a_function(param1, param2):\n",
    "    print (param1, param2)"
   ]
  },
  {
   "cell_type": "code",
   "execution_count": 92,
   "id": "941f50f3-84a8-4d7c-be32-cf97406f7e20",
   "metadata": {},
   "outputs": [],
   "source": [
    "def a_function(param1, param2=[1, 2, 3]):\n",
    "    print (param1, param2)\n",
    "    param2.append(100)"
   ]
  },
  {
   "cell_type": "code",
   "execution_count": 93,
   "id": "a8411cf5-2b70-4082-867f-983a6d022620",
   "metadata": {},
   "outputs": [
    {
     "name": "stdout",
     "output_type": "stream",
     "text": [
      "1 [1, 2, 3]\n"
     ]
    }
   ],
   "source": [
    "a_function(1)"
   ]
  },
  {
   "cell_type": "code",
   "execution_count": 94,
   "id": "4596b3e7-b65e-4800-ab21-8d30de092e88",
   "metadata": {},
   "outputs": [
    {
     "name": "stdout",
     "output_type": "stream",
     "text": [
      "1 [1, 2, 3, 100]\n"
     ]
    }
   ],
   "source": [
    "a_function(1)"
   ]
  },
  {
   "cell_type": "code",
   "execution_count": 95,
   "id": "22c8cd24-8c9e-4643-8423-242b3fc6c110",
   "metadata": {},
   "outputs": [
    {
     "name": "stdout",
     "output_type": "stream",
     "text": [
      "1 [1, 2, 3, 100, 100]\n"
     ]
    }
   ],
   "source": [
    "a_function(1)"
   ]
  },
  {
   "cell_type": "code",
   "execution_count": 96,
   "id": "57e8869a-c830-4956-bdc6-c0cc750eddfe",
   "metadata": {},
   "outputs": [
    {
     "name": "stdout",
     "output_type": "stream",
     "text": [
      "1 [1, 2, 3, 100, 100, 100]\n"
     ]
    }
   ],
   "source": [
    "a_function(1)"
   ]
  },
  {
   "cell_type": "code",
   "execution_count": 98,
   "id": "35511b9e-3c63-400d-b1b9-03fe0a66db6f",
   "metadata": {},
   "outputs": [
    {
     "name": "stdout",
     "output_type": "stream",
     "text": [
      "1 [1, 2, 3]\n",
      "1 [1, 2, 3]\n",
      "1 [1, 2, 3]\n"
     ]
    }
   ],
   "source": [
    "a_function(1, [1, 2, 3])\n",
    "a_function(1, [1, 2, 3])\n",
    "a_function(1, [1, 2, 3])"
   ]
  },
  {
   "cell_type": "code",
   "execution_count": 79,
   "id": "8fc47970-78f8-4665-bc8e-134f82a87048",
   "metadata": {},
   "outputs": [],
   "source": [
    "### Think about memory references what do you think happens here"
   ]
  },
  {
   "cell_type": "code",
   "execution_count": 99,
   "id": "3d2b06a5-9f45-4bef-8e68-a83b1b7bd284",
   "metadata": {},
   "outputs": [],
   "source": [
    "def a_function(param1, param2=None):\n",
    "    param2 = param2 or [1, 2, 3]\n",
    "    print (param1, param2)\n",
    "    param2.append(100)"
   ]
  },
  {
   "cell_type": "code",
   "execution_count": 100,
   "id": "a4de66a1-4076-4ba6-b442-aa8c6c343736",
   "metadata": {},
   "outputs": [
    {
     "name": "stdout",
     "output_type": "stream",
     "text": [
      "1 [1, 2, 3]\n",
      "1 [1, 2, 3]\n",
      "1 [1, 2, 3]\n"
     ]
    }
   ],
   "source": [
    "a_function(1)\n",
    "a_function(1)\n",
    "a_function(1)"
   ]
  },
  {
   "cell_type": "markdown",
   "id": "3c1392b8-28ce-4b79-80d3-194b4abfffd6",
   "metadata": {},
   "source": [
    "### Namespaces"
   ]
  },
  {
   "cell_type": "code",
   "execution_count": 80,
   "id": "2036a435-476e-4b6e-8c6e-df66fb00f3de",
   "metadata": {},
   "outputs": [
    {
     "name": "stdout",
     "output_type": "stream",
     "text": [
      "9\n"
     ]
    }
   ],
   "source": [
    "x = 100\n",
    "for i in range(10):\n",
    "    x = i\n",
    "print (x)"
   ]
  },
  {
   "cell_type": "code",
   "execution_count": 87,
   "id": "6b30c98e-6f7d-485a-aa24-adbe838c46de",
   "metadata": {},
   "outputs": [
    {
     "name": "stdout",
     "output_type": "stream",
     "text": [
      "9\n"
     ]
    }
   ],
   "source": [
    "x = 100\n",
    "def a_100():\n",
    "    global x\n",
    "    for i in range(10): \n",
    "        x = i\n",
    "a_100()\n",
    "print (x)"
   ]
  },
  {
   "cell_type": "markdown",
   "id": "d24f3e64-b958-4d72-b7db-864670ad1ab9",
   "metadata": {},
   "source": [
    "### Function as objects"
   ]
  },
  {
   "cell_type": "code",
   "execution_count": 121,
   "id": "33fad0c2-107a-4641-acaa-2705255d3778",
   "metadata": {},
   "outputs": [
    {
     "data": {
      "text/plain": [
       "30"
      ]
     },
     "execution_count": 121,
     "metadata": {},
     "output_type": "execute_result"
    }
   ],
   "source": [
    "def add(x, y):\n",
    "    return x + y\n",
    "\n",
    "add(10, 20)"
   ]
  },
  {
   "cell_type": "code",
   "execution_count": 116,
   "id": "04022954-6487-4523-9b4b-27325af8054c",
   "metadata": {},
   "outputs": [
    {
     "data": {
      "text/plain": [
       "10"
      ]
     },
     "execution_count": 116,
     "metadata": {},
     "output_type": "execute_result"
    }
   ],
   "source": [
    "x = 10\n",
    "x"
   ]
  },
  {
   "cell_type": "code",
   "execution_count": 119,
   "id": "a7619f51-4639-417d-9f44-7ec60a606287",
   "metadata": {},
   "outputs": [
    {
     "data": {
      "text/plain": [
       "<function __main__.add(x, y)>"
      ]
     },
     "execution_count": 119,
     "metadata": {},
     "output_type": "execute_result"
    }
   ],
   "source": [
    "add # nuance is functions are objects"
   ]
  },
  {
   "cell_type": "code",
   "execution_count": 121,
   "id": "6660dab5-69cf-41ce-b59a-cce36ac88d76",
   "metadata": {},
   "outputs": [
    {
     "data": {
      "text/plain": [
       "10"
      ]
     },
     "execution_count": 121,
     "metadata": {},
     "output_type": "execute_result"
    }
   ],
   "source": [
    "x # so are integers"
   ]
  },
  {
   "cell_type": "code",
   "execution_count": null,
   "id": "e8111ae2-31f3-4508-a959-371d074a5c2f",
   "metadata": {},
   "outputs": [],
   "source": []
  },
  {
   "cell_type": "code",
   "execution_count": 128,
   "id": "96906c3a-dcd6-47b1-bf59-928b2fa3082a",
   "metadata": {},
   "outputs": [],
   "source": [
    "# if function is an object? Does it have a class? Yes. \n",
    "# If it has a class, can other classes behave like functions yes?"
   ]
  },
  {
   "cell_type": "code",
   "execution_count": 92,
   "id": "c886cf5f-a8b3-4473-af74-f54f3225ca1d",
   "metadata": {},
   "outputs": [
    {
     "name": "stdout",
     "output_type": "stream",
     "text": [
      "calling = <function add at 0x10dfd22a0> with args= (10, 20) kwargs= {}\n"
     ]
    },
    {
     "data": {
      "text/plain": [
       "<function __main__.add(x, y)>"
      ]
     },
     "execution_count": 92,
     "metadata": {},
     "output_type": "execute_result"
    }
   ],
   "source": [
    "def another_function(func, *args, **kwargs):\n",
    "    print (f\"calling =\", func, \"with args=\", args, \"kwargs=\", kwargs)\n",
    "    func(*args, **kwargs)\n",
    "    return func\n",
    "    \n",
    "val = another_function(add, 10, 20)\n",
    "val"
   ]
  },
  {
   "cell_type": "markdown",
   "id": "9177a2d2-4943-4909-b5a2-47e426b5dc90",
   "metadata": {},
   "source": [
    "### Inner functions"
   ]
  },
  {
   "cell_type": "code",
   "execution_count": 96,
   "id": "f512aca5-5600-4642-9f13-9e820179f920",
   "metadata": {},
   "outputs": [
    {
     "name": "stdout",
     "output_type": "stream",
     "text": [
      "calling inner function\n"
     ]
    }
   ],
   "source": [
    "def another_function(func, *args, **kwargs):\n",
    "    def inner_function():\n",
    "        return \"calling inner function\"\n",
    "        \n",
    "    return inner_function()\n",
    "    \n",
    "print (another_function(add, 10, 20)) "
   ]
  },
  {
   "cell_type": "markdown",
   "id": "19a52ce5-b023-4d01-ac7a-3be81706bec5",
   "metadata": {},
   "source": [
    "## Decorators\n",
    "\n",
    "A function that takes a function as an argument and returns a function as a return value"
   ]
  },
  {
   "cell_type": "code",
   "execution_count": 126,
   "id": "e8910535-89e8-40cd-863b-7d7e4c35a8fc",
   "metadata": {},
   "outputs": [],
   "source": [
    "def logger(func, *args, **kwargs):\n",
    "    print (f\"calling =\", func, \"with args=\", args, \"kwargs=\", kwargs)\n",
    "    val = func(*args, **kwargs)\n",
    "    print (f\"called =\", func, \"returned=\", val)\n",
    "    return val"
   ]
  },
  {
   "cell_type": "code",
   "execution_count": 127,
   "id": "5ec5637d-6c90-47ee-804d-0c0f0d903a63",
   "metadata": {},
   "outputs": [
    {
     "name": "stdout",
     "output_type": "stream",
     "text": [
      "calling = <function add at 0x10f2c7920> with args= (10, 20) kwargs= {}\n",
      "called = <function add at 0x10f2c7920> returned= 30\n"
     ]
    },
    {
     "data": {
      "text/plain": [
       "30"
      ]
     },
     "execution_count": 127,
     "metadata": {},
     "output_type": "execute_result"
    }
   ],
   "source": [
    "logger(add, 10, 20)"
   ]
  },
  {
   "cell_type": "code",
   "execution_count": 145,
   "id": "4823f64b-c4a9-4f8d-b957-12b3cd628438",
   "metadata": {},
   "outputs": [],
   "source": [
    "def logger(func):\n",
    "    val = None\n",
    "    print (f\"wrapping =\", func)\n",
    "    def inner_func(*args, **kwargs):\n",
    "        print (f\"calling =\", func, \"with args=\", args, \"kwargs=\", kwargs)\n",
    "        val = func(*args, **kwargs)\n",
    "        print (f\"called =\", func, \"returned=\", val)\n",
    "        return val\n",
    "    return inner_func"
   ]
  },
  {
   "cell_type": "code",
   "execution_count": 146,
   "id": "e7004fbb-fefa-4cce-8739-41951cde9a4b",
   "metadata": {},
   "outputs": [
    {
     "name": "stdout",
     "output_type": "stream",
     "text": [
      "wrapping = <function add at 0x10f2c7920>\n",
      "calling = <function add at 0x10f2c7920> with args= (10, 20) kwargs= {}\n",
      "called = <function add at 0x10f2c7920> returned= 30\n"
     ]
    },
    {
     "data": {
      "text/plain": [
       "30"
      ]
     },
     "execution_count": 146,
     "metadata": {},
     "output_type": "execute_result"
    }
   ],
   "source": [
    "logger(add)(10, 20)"
   ]
  },
  {
   "cell_type": "code",
   "execution_count": 147,
   "id": "4244efa6-9283-4d67-8526-303a15354f19",
   "metadata": {},
   "outputs": [
    {
     "name": "stdout",
     "output_type": "stream",
     "text": [
      "wrapping = <function sub at 0x10f554900>\n",
      "calling = <function sub at 0x10f554900> with args= (10, 20) kwargs= {}\n",
      "called = <function sub at 0x10f554900> returned= -10\n"
     ]
    },
    {
     "data": {
      "text/plain": [
       "-10"
      ]
     },
     "execution_count": 147,
     "metadata": {},
     "output_type": "execute_result"
    }
   ],
   "source": [
    "@logger\n",
    "def sub(a, b):\n",
    "    return a - b\n",
    "\n",
    "sub(10, 20)"
   ]
  },
  {
   "cell_type": "code",
   "execution_count": 176,
   "id": "a5ee3f1b-d89f-4bc7-b3ce-f2155af582f0",
   "metadata": {},
   "outputs": [
    {
     "name": "stdout",
     "output_type": "stream",
     "text": [
      "logger called\n"
     ]
    },
    {
     "data": {
      "text/plain": [
       "-10"
      ]
     },
     "execution_count": 176,
     "metadata": {},
     "output_type": "execute_result"
    }
   ],
   "source": [
    "## Is a function a decorator when it takes and returns the same function?\n",
    "\n",
    "def logger(func):\n",
    "    print (\"logger called\")\n",
    "    return func\n",
    "\n",
    "@logger\n",
    "def sub(a, b):\n",
    "    return a - b\n",
    "\n",
    "sub(10, 20)\n",
    "\n",
    "# is logger still a decorator"
   ]
  },
  {
   "cell_type": "markdown",
   "id": "4019fbca-c599-4f8d-9553-0e34d90a334a",
   "metadata": {},
   "source": [
    "### Decorator with Arguments"
   ]
  },
  {
   "cell_type": "code",
   "execution_count": 178,
   "id": "cd7fdc72-3212-4c79-9dad-1f85e1f1a099",
   "metadata": {},
   "outputs": [
    {
     "name": "stdout",
     "output_type": "stream",
     "text": [
      "logger called\n"
     ]
    },
    {
     "ename": "TypeError",
     "evalue": "'str' object is not callable",
     "output_type": "error",
     "traceback": [
      "\u001b[31m---------------------------------------------------------------------------\u001b[39m",
      "\u001b[31mTypeError\u001b[39m                                 Traceback (most recent call last)",
      "\u001b[36mCell\u001b[39m\u001b[36m \u001b[39m\u001b[32mIn[178]\u001b[39m\u001b[32m, line 1\u001b[39m\n\u001b[32m----> \u001b[39m\u001b[32m1\u001b[39m \u001b[38;5;129;43m@logger\u001b[39;49m\u001b[43m(\u001b[49m\u001b[33;43m\"\u001b[39;49m\u001b[33;43mCalling subtraction\u001b[39;49m\u001b[33;43m\"\u001b[39;49m\u001b[43m)\u001b[49m\n\u001b[32m      2\u001b[39m \u001b[38;5;28;43;01mdef\u001b[39;49;00m\u001b[38;5;250;43m \u001b[39;49m\u001b[34;43msub\u001b[39;49m\u001b[43m(\u001b[49m\u001b[43ma\u001b[49m\u001b[43m,\u001b[49m\u001b[43m \u001b[49m\u001b[43mb\u001b[49m\u001b[43m)\u001b[49m\u001b[43m:\u001b[49m\n\u001b[32m      3\u001b[39m \u001b[43m    \u001b[49m\u001b[38;5;28;43;01mreturn\u001b[39;49;00m\u001b[43m \u001b[49m\u001b[43ma\u001b[49m\u001b[43m \u001b[49m\u001b[43m-\u001b[49m\u001b[43m \u001b[49m\u001b[43mb\u001b[49m\n",
      "\u001b[31mTypeError\u001b[39m: 'str' object is not callable"
     ]
    }
   ],
   "source": [
    "@logger(\"Calling subtraction\")\n",
    "def sub(a, b):\n",
    "    return a - b"
   ]
  },
  {
   "cell_type": "code",
   "execution_count": 179,
   "id": "f2ef5f9e-e953-40aa-a6f6-9f20931a365f",
   "metadata": {},
   "outputs": [],
   "source": [
    "# Remember that decorator is a function that takes a function as a parameter and returns a function"
   ]
  },
  {
   "cell_type": "code",
   "execution_count": null,
   "id": "5a0f5a38-3365-43cf-928b-ca70af68a404",
   "metadata": {},
   "outputs": [],
   "source": [
    "# You can see this pattern almost everywhere especially in Flask, FastAPI etc.,"
   ]
  },
  {
   "cell_type": "markdown",
   "id": "9138d0ab-5896-4f74-8914-2c52b4dc9f5e",
   "metadata": {},
   "source": [
    "### Classes/Objects as functions"
   ]
  },
  {
   "cell_type": "code",
   "execution_count": 173,
   "id": "0360caaa-0ca0-4b86-8f43-30274df0f46f",
   "metadata": {},
   "outputs": [],
   "source": [
    "class NormalClass:\n",
    "    pass\n",
    "\n",
    "n = NormalClass()\n"
   ]
  },
  {
   "cell_type": "code",
   "execution_count": 201,
   "id": "22e6483e-6162-4c6c-a7a3-7a55e1ba86de",
   "metadata": {},
   "outputs": [],
   "source": [
    "class Duck:\n",
    "    def __call__(self, func):\n",
    "        print (\"quack\")\n",
    "        def wrapping_duck(*args, **kwargs):\n",
    "            print (\"wrapped\", *args, **kwargs)\n",
    "            return func(*args, **kwargs)\n",
    "        return wrapping_duck"
   ]
  },
  {
   "cell_type": "code",
   "execution_count": 202,
   "id": "f0c0c239-4289-4e21-82c9-b1f9c05719cc",
   "metadata": {},
   "outputs": [],
   "source": [
    "duck = Duck()"
   ]
  },
  {
   "cell_type": "code",
   "execution_count": 203,
   "id": "b0a961db-811e-47f4-ac77-734790aee356",
   "metadata": {},
   "outputs": [
    {
     "ename": "TypeError",
     "evalue": "Duck.__call__() missing 1 required positional argument: 'func'",
     "output_type": "error",
     "traceback": [
      "\u001b[31m---------------------------------------------------------------------------\u001b[39m",
      "\u001b[31mTypeError\u001b[39m                                 Traceback (most recent call last)",
      "\u001b[36mCell\u001b[39m\u001b[36m \u001b[39m\u001b[32mIn[203]\u001b[39m\u001b[32m, line 1\u001b[39m\n\u001b[32m----> \u001b[39m\u001b[32m1\u001b[39m \u001b[43mduck\u001b[49m\u001b[43m(\u001b[49m\u001b[43m)\u001b[49m\n",
      "\u001b[31mTypeError\u001b[39m: Duck.__call__() missing 1 required positional argument: 'func'"
     ]
    }
   ],
   "source": [
    "duck()"
   ]
  },
  {
   "cell_type": "markdown",
   "id": "f299c24e-2abb-49c9-8ed5-691d81eb04e5",
   "metadata": {},
   "source": [
    "### Classes as Decorators"
   ]
  },
  {
   "cell_type": "code",
   "execution_count": 204,
   "id": "9b73277b-bd98-42e2-9324-a39217ca3fc2",
   "metadata": {},
   "outputs": [
    {
     "name": "stdout",
     "output_type": "stream",
     "text": [
      "quack\n"
     ]
    }
   ],
   "source": [
    "@duck\n",
    "def mul(a, b):\n",
    "    return a * b"
   ]
  },
  {
   "cell_type": "code",
   "execution_count": 205,
   "id": "601cde9e-8b76-46b1-8a7f-acf0b796fc2a",
   "metadata": {},
   "outputs": [
    {
     "name": "stdout",
     "output_type": "stream",
     "text": [
      "wrapped 10 20\n"
     ]
    },
    {
     "data": {
      "text/plain": [
       "200"
      ]
     },
     "execution_count": 205,
     "metadata": {},
     "output_type": "execute_result"
    }
   ],
   "source": [
    "mul(10, 20)"
   ]
  },
  {
   "cell_type": "code",
   "execution_count": 210,
   "id": "66728742-42ce-426c-bb7c-b23b0ddad511",
   "metadata": {},
   "outputs": [
    {
     "name": "stdout",
     "output_type": "stream",
     "text": [
      "a,b,c\n",
      "\n"
     ]
    }
   ],
   "source": [
    "with open('data/temp.csv') as f:\n",
    "    print (f.readline())"
   ]
  },
  {
   "cell_type": "code",
   "execution_count": 228,
   "id": "94136d98-7877-4aa0-81f6-8c93f91380a9",
   "metadata": {},
   "outputs": [
    {
     "ename": "TypeError",
     "evalue": "unsupported operand type(s) for /: 'int' and 'str'",
     "output_type": "error",
     "traceback": [
      "\u001b[31m---------------------------------------------------------------------------\u001b[39m",
      "\u001b[31mTypeError\u001b[39m                                 Traceback (most recent call last)",
      "\u001b[36mCell\u001b[39m\u001b[36m \u001b[39m\u001b[32mIn[228]\u001b[39m\u001b[32m, line 2\u001b[39m\n\u001b[32m      1\u001b[39m f = \u001b[38;5;28mopen\u001b[39m(\u001b[33m'\u001b[39m\u001b[33mdata/temp.csv\u001b[39m\u001b[33m'\u001b[39m, \u001b[33m'\u001b[39m\u001b[33mr\u001b[39m\u001b[33m'\u001b[39m)\n\u001b[32m----> \u001b[39m\u001b[32m2\u001b[39m \u001b[38;5;28mprint\u001b[39m (\u001b[32;43m0\u001b[39;49m\u001b[43m/\u001b[49m\u001b[43mf\u001b[49m\u001b[43m.\u001b[49m\u001b[43mread\u001b[49m\u001b[43m(\u001b[49m\u001b[43m)\u001b[49m)\n\u001b[32m      3\u001b[39m f.close()\n",
      "\u001b[31mTypeError\u001b[39m: unsupported operand type(s) for /: 'int' and 'str'"
     ]
    }
   ],
   "source": [
    "f = open('data/temp.csv', 'r')\n",
    "print (0/f.read())\n",
    "f.close()"
   ]
  },
  {
   "cell_type": "code",
   "execution_count": 230,
   "id": "7b9977d1-9ebd-4eb3-98e7-9c447c7cb484",
   "metadata": {},
   "outputs": [
    {
     "data": {
      "text/plain": [
       "False"
      ]
     },
     "execution_count": 230,
     "metadata": {},
     "output_type": "execute_result"
    }
   ],
   "source": [
    "f.closed"
   ]
  },
  {
   "cell_type": "code",
   "execution_count": 232,
   "id": "e1a4d3f6-6d90-479f-90b3-038bbe80df1e",
   "metadata": {},
   "outputs": [
    {
     "data": {
      "text/plain": [
       "True"
      ]
     },
     "execution_count": 232,
     "metadata": {},
     "output_type": "execute_result"
    }
   ],
   "source": [
    "f.closed"
   ]
  },
  {
   "cell_type": "markdown",
   "id": "43fe92ac-911a-41d8-a7a1-f4347b659a92",
   "metadata": {},
   "source": [
    "## Context Managers"
   ]
  },
  {
   "cell_type": "code",
   "execution_count": 235,
   "id": "f3fa870d-a72d-4139-a9ae-b415a7edce17",
   "metadata": {},
   "outputs": [
    {
     "ename": "ValueError",
     "evalue": "I/O operation on closed file.",
     "output_type": "error",
     "traceback": [
      "\u001b[31m---------------------------------------------------------------------------\u001b[39m",
      "\u001b[31mValueError\u001b[39m                                Traceback (most recent call last)",
      "\u001b[36mCell\u001b[39m\u001b[36m \u001b[39m\u001b[32mIn[235]\u001b[39m\u001b[32m, line 2\u001b[39m\n\u001b[32m      1\u001b[39m \u001b[38;5;28;01mwith\u001b[39;00m \u001b[38;5;28mopen\u001b[39m(\u001b[33m'\u001b[39m\u001b[33mdata/temp.csv\u001b[39m\u001b[33m'\u001b[39m, \u001b[33m'\u001b[39m\u001b[33mr\u001b[39m\u001b[33m'\u001b[39m) \u001b[38;5;28;01mas\u001b[39;00m f1:\n\u001b[32m----> \u001b[39m\u001b[32m2\u001b[39m     \u001b[38;5;28mprint\u001b[39m (\u001b[32m0\u001b[39m/\u001b[43mf\u001b[49m\u001b[43m.\u001b[49m\u001b[43mread\u001b[49m\u001b[43m(\u001b[49m\u001b[43m)\u001b[49m)\n",
      "\u001b[31mValueError\u001b[39m: I/O operation on closed file."
     ]
    }
   ],
   "source": [
    "with open('data/temp.csv', 'r') as f1:\n",
    "    print (0/f.read())"
   ]
  },
  {
   "cell_type": "code",
   "execution_count": 236,
   "id": "290e7974-2364-489f-a743-a65a91abc63e",
   "metadata": {},
   "outputs": [
    {
     "data": {
      "text/plain": [
       "True"
      ]
     },
     "execution_count": 236,
     "metadata": {},
     "output_type": "execute_result"
    }
   ],
   "source": [
    "f1.closed"
   ]
  },
  {
   "cell_type": "code",
   "execution_count": 231,
   "id": "be58646c-4c9e-4c29-a62f-366c60d16dfc",
   "metadata": {},
   "outputs": [
    {
     "name": "stdout",
     "output_type": "stream",
     "text": [
      "Exception occured unsupported operand type(s) for /: 'int' and 'str'\n"
     ]
    }
   ],
   "source": [
    "try:\n",
    "    f = open('data/temp.csv', 'r')\n",
    "    print (0/f.read())\n",
    "except Exception as e:\n",
    "    print (\"Exception occured\", e)\n",
    "finally:\n",
    "    f.close()"
   ]
  },
  {
   "cell_type": "markdown",
   "id": "44677275-49f1-4cd9-be59-4ce5c6984b99",
   "metadata": {},
   "source": [
    "### Functional Context Managers"
   ]
  },
  {
   "cell_type": "code",
   "execution_count": 301,
   "id": "d0964ea4-cd6b-4a1f-a0db-133bc61ee6d0",
   "metadata": {},
   "outputs": [
    {
     "ename": "TypeError",
     "evalue": "unsupported operand type(s) for /: 'int' and 'str'",
     "output_type": "error",
     "traceback": [
      "\u001b[31m---------------------------------------------------------------------------\u001b[39m",
      "\u001b[31mTypeError\u001b[39m                                 Traceback (most recent call last)",
      "\u001b[36mCell\u001b[39m\u001b[36m \u001b[39m\u001b[32mIn[301]\u001b[39m\u001b[32m, line 12\u001b[39m\n\u001b[32m      9\u001b[39m         f.close()\n\u001b[32m     11\u001b[39m \u001b[38;5;28;01mwith\u001b[39;00m open_file(\u001b[33m'\u001b[39m\u001b[33mdata/temp.csv\u001b[39m\u001b[33m'\u001b[39m, \u001b[33m'\u001b[39m\u001b[33mr\u001b[39m\u001b[33m'\u001b[39m) \u001b[38;5;28;01mas\u001b[39;00m f2:\n\u001b[32m---> \u001b[39m\u001b[32m12\u001b[39m     \u001b[38;5;28mprint\u001b[39m (\u001b[32;43m0\u001b[39;49m\u001b[43m/\u001b[49m\u001b[43mf2\u001b[49m\u001b[43m.\u001b[49m\u001b[43mread\u001b[49m\u001b[43m(\u001b[49m\u001b[43m)\u001b[49m)\n",
      "\u001b[31mTypeError\u001b[39m: unsupported operand type(s) for /: 'int' and 'str'"
     ]
    }
   ],
   "source": [
    "from contextlib import contextmanager\n",
    "\n",
    "@contextmanager\n",
    "def open_file(path, mode):\n",
    "    try:\n",
    "        f = open(path, mode) \n",
    "        yield f\n",
    "    finally:\n",
    "        f.close()\n",
    "\n",
    "with open_file('data/temp.csv', 'r') as f2:\n",
    "    print (0/f2.read())\n",
    "\n"
   ]
  },
  {
   "cell_type": "code",
   "execution_count": 302,
   "id": "91eb1a63-294f-4510-b641-20172a2b7cbc",
   "metadata": {},
   "outputs": [
    {
     "name": "stdout",
     "output_type": "stream",
     "text": [
      "True\n"
     ]
    }
   ],
   "source": [
    "print (f2.closed)"
   ]
  },
  {
   "cell_type": "code",
   "execution_count": 308,
   "id": "394f42ce-0110-4836-ad3a-93289f60cabd",
   "metadata": {},
   "outputs": [],
   "source": [
    "class OpenFile:\n",
    "    def __init__(self, path, mode):\n",
    "        self.path = path\n",
    "        self.mode = mode\n",
    "        self.fileObj = None\n",
    "\n",
    "    def __enter__(self):\n",
    "        print (\"entering context manager\")\n",
    "        self.fileObj = open(self.path, self.mode)\n",
    "        return self.fileObj\n",
    "\n",
    "    def __exit__(self, exc_type, exc_value, exc_traceback):\n",
    "        if exc_type:\n",
    "            print (\"exception occurred =\" ,exc_type)\n",
    "        else:\n",
    "            print (\"no exception\")\n",
    "        self.fileObj.close()"
   ]
  },
  {
   "cell_type": "code",
   "execution_count": 309,
   "id": "97695f01-4abe-4c45-8d5d-280401935c00",
   "metadata": {},
   "outputs": [
    {
     "name": "stdout",
     "output_type": "stream",
     "text": [
      "entering context manager\n",
      "a,b,c\n",
      "1,2,\n",
      "3,4,5\n",
      "5,6,7\n",
      "7,8,9\n",
      "9,10,11\n",
      "11,12,13\n",
      "no exception\n"
     ]
    }
   ],
   "source": [
    "with OpenFile('data/temp.csv', 'r') as f2:\n",
    "    print (f2.read())"
   ]
  },
  {
   "cell_type": "code",
   "execution_count": null,
   "id": "c9bf6265-772a-41b5-9c81-32a99f36cc7f",
   "metadata": {},
   "outputs": [],
   "source": []
  },
  {
   "cell_type": "code",
   "execution_count": null,
   "id": "95090617-2409-4461-b0dc-a9797e4ff2ae",
   "metadata": {},
   "outputs": [],
   "source": []
  },
  {
   "cell_type": "markdown",
   "id": "321edb0a-920d-438b-9101-46c284515cd8",
   "metadata": {},
   "source": [
    "## Iterators & Iterable \n",
    "\n",
    "https://thelearning.dev/python-iterables-and-iterators"
   ]
  },
  {
   "cell_type": "code",
   "execution_count": 265,
   "id": "817f7707-287c-48b1-9917-88e70313de21",
   "metadata": {},
   "outputs": [],
   "source": [
    "l = [1, 2, 3, 4, 5, 6]"
   ]
  },
  {
   "cell_type": "code",
   "execution_count": 261,
   "id": "c78e9c0e-d4a3-4ffa-bbe7-e2b3bff818de",
   "metadata": {},
   "outputs": [
    {
     "ename": "TypeError",
     "evalue": "'list' object is not an iterator",
     "output_type": "error",
     "traceback": [
      "\u001b[31m---------------------------------------------------------------------------\u001b[39m",
      "\u001b[31mTypeError\u001b[39m                                 Traceback (most recent call last)",
      "\u001b[36mCell\u001b[39m\u001b[36m \u001b[39m\u001b[32mIn[261]\u001b[39m\u001b[32m, line 1\u001b[39m\n\u001b[32m----> \u001b[39m\u001b[32m1\u001b[39m \u001b[38;5;28;43mnext\u001b[39;49m\u001b[43m(\u001b[49m\u001b[43ml\u001b[49m\u001b[43m)\u001b[49m\n",
      "\u001b[31mTypeError\u001b[39m: 'list' object is not an iterator"
     ]
    }
   ],
   "source": [
    "next(l)"
   ]
  },
  {
   "cell_type": "code",
   "execution_count": 267,
   "id": "427162e6-a18f-4776-a716-1cc387f7c799",
   "metadata": {},
   "outputs": [],
   "source": [
    "i = iter(l)"
   ]
  },
  {
   "cell_type": "code",
   "execution_count": 263,
   "id": "3e8a98e4-48b1-44b0-9e4d-699b99e4a57d",
   "metadata": {},
   "outputs": [
    {
     "data": {
      "text/plain": [
       "1"
      ]
     },
     "execution_count": 263,
     "metadata": {},
     "output_type": "execute_result"
    }
   ],
   "source": [
    "next(i)"
   ]
  },
  {
   "cell_type": "code",
   "execution_count": 272,
   "id": "b573334d-e4de-4007-81cb-0925b1090088",
   "metadata": {},
   "outputs": [
    {
     "name": "stdin",
     "output_type": "stream",
     "text": [
      "Enter a value (or 'quit' to exit):  1\n"
     ]
    },
    {
     "name": "stdout",
     "output_type": "stream",
     "text": [
      "You entered: 1\n"
     ]
    },
    {
     "name": "stdin",
     "output_type": "stream",
     "text": [
      "Enter a value (or 'quit' to exit):  2\n"
     ]
    },
    {
     "name": "stdout",
     "output_type": "stream",
     "text": [
      "You entered: 2\n"
     ]
    },
    {
     "name": "stdin",
     "output_type": "stream",
     "text": [
      "Enter a value (or 'quit' to exit):  3\n"
     ]
    },
    {
     "name": "stdout",
     "output_type": "stream",
     "text": [
      "You entered: 3\n"
     ]
    },
    {
     "name": "stdin",
     "output_type": "stream",
     "text": [
      "Enter a value (or 'quit' to exit):  quit\n"
     ]
    },
    {
     "name": "stdout",
     "output_type": "stream",
     "text": [
      "Done!\n"
     ]
    }
   ],
   "source": [
    "def user_input():\n",
    "    return input(\"Enter a value (or 'quit' to exit): \")\n",
    "\n",
    "# Create iterator that stops when 'quit' is entered\n",
    "inputs = iter(user_input, 'quit')\n",
    "\n",
    "for value in inputs:\n",
    "    print(f\"You entered: {value}\")\n",
    "\n",
    "print(\"Done!\")"
   ]
  },
  {
   "cell_type": "code",
   "execution_count": 246,
   "id": "c878a639-3581-4a14-86cc-1843d7920815",
   "metadata": {},
   "outputs": [],
   "source": [
    "### What's happening internally?"
   ]
  },
  {
   "cell_type": "code",
   "execution_count": 253,
   "id": "e924b3e5-6d12-4cad-a9d5-67343cae8ce9",
   "metadata": {},
   "outputs": [],
   "source": [
    "class List:\n",
    "    def __init__(self, values):\n",
    "        self.val = values\n",
    "        self.curr_index = -1\n",
    "\n",
    "    def __next__(self):\n",
    "        self.curr_index += 1\n",
    "        try:\n",
    "            return self.val[self.curr_index] \n",
    "        except IndexError:\n",
    "            raise StopIteration"
   ]
  },
  {
   "cell_type": "code",
   "execution_count": 254,
   "id": "70d86594-fd14-4ab8-ab6e-7c0a8588f318",
   "metadata": {},
   "outputs": [],
   "source": [
    "l = List([1, 2, 3])"
   ]
  },
  {
   "cell_type": "code",
   "execution_count": 258,
   "id": "3ca4b527-057e-45ee-a645-9f38e822dbea",
   "metadata": {},
   "outputs": [
    {
     "ename": "StopIteration",
     "evalue": "",
     "output_type": "error",
     "traceback": [
      "\u001b[31m---------------------------------------------------------------------------\u001b[39m",
      "\u001b[31mIndexError\u001b[39m                                Traceback (most recent call last)",
      "\u001b[36mCell\u001b[39m\u001b[36m \u001b[39m\u001b[32mIn[253]\u001b[39m\u001b[32m, line 9\u001b[39m, in \u001b[36mList.__next__\u001b[39m\u001b[34m(self)\u001b[39m\n\u001b[32m      8\u001b[39m \u001b[38;5;28;01mtry\u001b[39;00m:\n\u001b[32m----> \u001b[39m\u001b[32m9\u001b[39m     \u001b[38;5;28;01mreturn\u001b[39;00m \u001b[38;5;28;43mself\u001b[39;49m\u001b[43m.\u001b[49m\u001b[43mval\u001b[49m\u001b[43m[\u001b[49m\u001b[38;5;28;43mself\u001b[39;49m\u001b[43m.\u001b[49m\u001b[43mcurr_index\u001b[49m\u001b[43m]\u001b[49m \n\u001b[32m     10\u001b[39m \u001b[38;5;28;01mexcept\u001b[39;00m \u001b[38;5;167;01mIndexError\u001b[39;00m:\n",
      "\u001b[31mIndexError\u001b[39m: list index out of range",
      "\nDuring handling of the above exception, another exception occurred:\n",
      "\u001b[31mStopIteration\u001b[39m                             Traceback (most recent call last)",
      "\u001b[36mCell\u001b[39m\u001b[36m \u001b[39m\u001b[32mIn[258]\u001b[39m\u001b[32m, line 1\u001b[39m\n\u001b[32m----> \u001b[39m\u001b[32m1\u001b[39m \u001b[38;5;28;43mnext\u001b[39;49m\u001b[43m(\u001b[49m\u001b[43ml\u001b[49m\u001b[43m)\u001b[49m\n",
      "\u001b[36mCell\u001b[39m\u001b[36m \u001b[39m\u001b[32mIn[253]\u001b[39m\u001b[32m, line 11\u001b[39m, in \u001b[36mList.__next__\u001b[39m\u001b[34m(self)\u001b[39m\n\u001b[32m      9\u001b[39m     \u001b[38;5;28;01mreturn\u001b[39;00m \u001b[38;5;28mself\u001b[39m.val[\u001b[38;5;28mself\u001b[39m.curr_index] \n\u001b[32m     10\u001b[39m \u001b[38;5;28;01mexcept\u001b[39;00m \u001b[38;5;167;01mIndexError\u001b[39;00m:\n\u001b[32m---> \u001b[39m\u001b[32m11\u001b[39m     \u001b[38;5;28;01mraise\u001b[39;00m \u001b[38;5;167;01mStopIteration\u001b[39;00m\n",
      "\u001b[31mStopIteration\u001b[39m: "
     ]
    }
   ],
   "source": [
    "next(l)"
   ]
  },
  {
   "cell_type": "code",
   "execution_count": 259,
   "id": "48d38a91-e2f9-49d7-8a80-2624602f1aea",
   "metadata": {},
   "outputs": [
    {
     "ename": "TypeError",
     "evalue": "'List' object is not iterable",
     "output_type": "error",
     "traceback": [
      "\u001b[31m---------------------------------------------------------------------------\u001b[39m",
      "\u001b[31mTypeError\u001b[39m                                 Traceback (most recent call last)",
      "\u001b[36mCell\u001b[39m\u001b[36m \u001b[39m\u001b[32mIn[259]\u001b[39m\u001b[32m, line 1\u001b[39m\n\u001b[32m----> \u001b[39m\u001b[32m1\u001b[39m \u001b[38;5;28;43;01mfor\u001b[39;49;00m\u001b[43m \u001b[49m\u001b[43mi\u001b[49m\u001b[43m \u001b[49m\u001b[38;5;129;43;01min\u001b[39;49;00m\u001b[43m \u001b[49m\u001b[43ml\u001b[49m\u001b[43m:\u001b[49m\n\u001b[32m      2\u001b[39m \u001b[43m    \u001b[49m\u001b[38;5;28;43mprint\u001b[39;49m\u001b[43m \u001b[49m\u001b[43m(\u001b[49m\u001b[43mi\u001b[49m\u001b[43m)\u001b[49m\n",
      "\u001b[31mTypeError\u001b[39m: 'List' object is not iterable"
     ]
    }
   ],
   "source": [
    "for i in l:\n",
    "    print (i)"
   ]
  },
  {
   "cell_type": "code",
   "execution_count": 275,
   "id": "d03586e0-afe7-45a4-8bf0-2931a1f89948",
   "metadata": {},
   "outputs": [],
   "source": [
    "class List:\n",
    "    def __init__(self, values):\n",
    "        self.val = values\n",
    "        self.curr_index = -1\n",
    "\n",
    "    def __next__(self):\n",
    "        self.curr_index += 1\n",
    "        try:\n",
    "            return self.val[self.curr_index] \n",
    "        except IndexError:\n",
    "            raise StopIteration\n",
    "\n",
    "    def __iter__(self):\n",
    "        return self"
   ]
  },
  {
   "cell_type": "code",
   "execution_count": 274,
   "id": "d92a9937-186b-4c73-a5c7-f42879a5baf2",
   "metadata": {},
   "outputs": [
    {
     "name": "stdout",
     "output_type": "stream",
     "text": [
      "1\n",
      "2\n",
      "3\n",
      "4\n",
      "5\n",
      "6\n"
     ]
    }
   ],
   "source": [
    "for i in l:\n",
    "    print (i)"
   ]
  },
  {
   "cell_type": "markdown",
   "id": "d101e5c4-3ebf-4d61-b68e-4ef191e0a238",
   "metadata": {},
   "source": [
    "## Generators\n",
    "\n",
    "https://bhavaniravi.com/blog/python/advanced-python/python-generators-vs-iterators/"
   ]
  },
  {
   "cell_type": "code",
   "execution_count": 278,
   "id": "34e356c5-db1a-4e2d-9c40-3a913c72b18a",
   "metadata": {},
   "outputs": [
    {
     "name": "stdout",
     "output_type": "stream",
     "text": [
      "0\n",
      "1\n",
      "2\n",
      "3\n",
      "4\n",
      "5\n",
      "6\n",
      "7\n",
      "8\n",
      "9\n"
     ]
    }
   ],
   "source": [
    "def gen_n_number(x):\n",
    "    for i in range(x):\n",
    "        yield i\n",
    "\n",
    "for i in gen_n_number(10):\n",
    "    print (i)"
   ]
  },
  {
   "cell_type": "code",
   "execution_count": 280,
   "id": "5cfd7b01-d095-447f-bc60-5cbece2acb92",
   "metadata": {},
   "outputs": [],
   "source": [
    "## Sending values to generators\n",
    "\n",
    "def temperature_alerter(threshold=30):\n",
    "    current_temp = yield\n",
    "    while True:\n",
    "        if current_temp > threshold:\n",
    "            alert = yield \"⚠️ OVERHEATING\"\n",
    "        else:\n",
    "            alert = yield \"Normal\"\n",
    "        current_temp = alert if alert is not None else current_temp"
   ]
  },
  {
   "cell_type": "code",
   "execution_count": 281,
   "id": "b1bdf5d0-ef2f-4a01-afc8-338a32cb909b",
   "metadata": {},
   "outputs": [],
   "source": [
    "alerter = temperature_alerter()"
   ]
  },
  {
   "cell_type": "code",
   "execution_count": 282,
   "id": "4641e3a3-a5ed-4c4e-9944-fb9fbc1a83ad",
   "metadata": {},
   "outputs": [],
   "source": [
    "next(alerter)"
   ]
  },
  {
   "cell_type": "code",
   "execution_count": 283,
   "id": "3b054421-d16b-45da-ae3f-1a0b2df9262d",
   "metadata": {},
   "outputs": [
    {
     "data": {
      "text/plain": [
       "'⚠️ OVERHEATING'"
      ]
     },
     "execution_count": 283,
     "metadata": {},
     "output_type": "execute_result"
    }
   ],
   "source": [
    "alerter.send(40)"
   ]
  },
  {
   "cell_type": "code",
   "execution_count": 284,
   "id": "6d039633-0d2f-4389-a499-92f300350b90",
   "metadata": {},
   "outputs": [
    {
     "data": {
      "text/plain": [
       "'Normal'"
      ]
     },
     "execution_count": 284,
     "metadata": {},
     "output_type": "execute_result"
    }
   ],
   "source": [
    "alerter.send(12)"
   ]
  },
  {
   "cell_type": "code",
   "execution_count": 285,
   "id": "8fc5bd6d-91ef-4cd6-b775-491af82da3af",
   "metadata": {},
   "outputs": [
    {
     "data": {
      "text/plain": [
       "'Normal'"
      ]
     },
     "execution_count": 285,
     "metadata": {},
     "output_type": "execute_result"
    }
   ],
   "source": [
    "next(alerter)"
   ]
  },
  {
   "cell_type": "code",
   "execution_count": null,
   "id": "367af351-e846-43da-9763-5bf4f2b4bbbf",
   "metadata": {},
   "outputs": [],
   "source": []
  }
 ],
 "metadata": {
  "kernelspec": {
   "display_name": "depths-of-python",
   "language": "python",
   "name": "venv"
  },
  "language_info": {
   "codemirror_mode": {
    "name": "ipython",
    "version": 3
   },
   "file_extension": ".py",
   "mimetype": "text/x-python",
   "name": "python",
   "nbconvert_exporter": "python",
   "pygments_lexer": "ipython3",
   "version": "3.12.10"
  }
 },
 "nbformat": 4,
 "nbformat_minor": 5
}
