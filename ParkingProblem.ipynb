{
 "cells": [
  {
   "cell_type": "code",
   "execution_count": 65,
   "id": "5d4ab648-d227-4941-89e4-df6ad91ad66c",
   "metadata": {},
   "outputs": [],
   "source": [
    "# Write a ParkingSlot class\n",
    "\n",
    "class ParkingSlot:\n",
    "    def park(self, vehicle):\n",
    "        if self.is_empty and not self.vehicle:\n",
    "            self.is_empty = False\n",
    "            self.vehicle = vehicle\n",
    "        else:\n",
    "            raise Exception(\"Already Parked\")\n",
    "\n",
    "    def unpark(self):\n",
    "        self.is_empty = True\n",
    "        self.vehicle = None\n",
    "\n",
    "    def __init__(self):\n",
    "        self.is_empty = True\n",
    "        self.vehicle = None\n",
    "\n",
    "    def __bool__(self):\n",
    "        return self.is_empty"
   ]
  },
  {
   "cell_type": "code",
   "execution_count": 66,
   "id": "04e0f26b-4e94-4845-a22e-dd23f1ec9e0e",
   "metadata": {},
   "outputs": [],
   "source": [
    "# is the parking slot empty?\n",
    "\n",
    "# park a vechicle on the slot\n",
    "\n",
    "# unpark a vechicle on the slot\n",
    "\n",
    "# what are the error cases\n",
    "\n",
    "# A vechicle parked once cannot be reparked again uless it's unparked and moved to a different slot"
   ]
  },
  {
   "cell_type": "code",
   "execution_count": 67,
   "id": "2cd79fe0-6c55-458d-8b80-0b9f132885f5",
   "metadata": {},
   "outputs": [],
   "source": [
    "slot = ParkingSlot()"
   ]
  },
  {
   "cell_type": "code",
   "execution_count": 68,
   "id": "678ad22b-f50c-4561-8936-86913a159fda",
   "metadata": {},
   "outputs": [
    {
     "data": {
      "text/plain": [
       "True"
      ]
     },
     "execution_count": 68,
     "metadata": {},
     "output_type": "execute_result"
    }
   ],
   "source": [
    "bool(slot)"
   ]
  },
  {
   "cell_type": "code",
   "execution_count": 88,
   "id": "334251d6-4eb0-40c8-83a3-742b6e300014",
   "metadata": {},
   "outputs": [
    {
     "ename": "Exception",
     "evalue": "Already Parked",
     "output_type": "error",
     "traceback": [
      "\u001b[31m---------------------------------------------------------------------------\u001b[39m",
      "\u001b[31mException\u001b[39m                                 Traceback (most recent call last)",
      "\u001b[36mCell\u001b[39m\u001b[36m \u001b[39m\u001b[32mIn[88]\u001b[39m\u001b[32m, line 1\u001b[39m\n\u001b[32m----> \u001b[39m\u001b[32m1\u001b[39m \u001b[43mslot\u001b[49m\u001b[43m.\u001b[49m\u001b[43mpark\u001b[49m\u001b[43m(\u001b[49m\u001b[32;43m123\u001b[39;49m\u001b[43m)\u001b[49m\n",
      "\u001b[36mCell\u001b[39m\u001b[36m \u001b[39m\u001b[32mIn[65]\u001b[39m\u001b[32m, line 9\u001b[39m, in \u001b[36mParkingSlot.park\u001b[39m\u001b[34m(self, vehicle)\u001b[39m\n\u001b[32m      7\u001b[39m     \u001b[38;5;28mself\u001b[39m.vehicle = vehicle\n\u001b[32m      8\u001b[39m \u001b[38;5;28;01melse\u001b[39;00m:\n\u001b[32m----> \u001b[39m\u001b[32m9\u001b[39m     \u001b[38;5;28;01mraise\u001b[39;00m \u001b[38;5;167;01mException\u001b[39;00m(\u001b[33m\"\u001b[39m\u001b[33mAlready Parked\u001b[39m\u001b[33m\"\u001b[39m)\n",
      "\u001b[31mException\u001b[39m: Already Parked"
     ]
    }
   ],
   "source": [
    "slot.park(123)"
   ]
  },
  {
   "cell_type": "code",
   "execution_count": 86,
   "id": "a53c0904-5eff-4fae-b469-021014ce3d29",
   "metadata": {},
   "outputs": [],
   "source": [
    "slot.unpark()"
   ]
  },
  {
   "cell_type": "code",
   "execution_count": 37,
   "id": "6c655f3b-f488-45d8-828f-10da3ca094fa",
   "metadata": {},
   "outputs": [
    {
     "data": {
      "text/plain": [
       "False"
      ]
     },
     "execution_count": 37,
     "metadata": {},
     "output_type": "execute_result"
    }
   ],
   "source": [
    "bool(slot)"
   ]
  },
  {
   "cell_type": "code",
   "execution_count": 96,
   "id": "db3e239c-8972-4ceb-9b4c-e3715744d89b",
   "metadata": {},
   "outputs": [],
   "source": [
    "# Write a ParkingFloor class\n",
    "\n",
    "class ParkingFloor:\n",
    "    def __init__(self, no_of_slots):\n",
    "        self.no_of_slots = no_of_slots\n",
    "        self.slots = [ParkingSlot() for slot in range(no_of_slots)]\n",
    "\n",
    "    @property\n",
    "    def get_empty_slot(self):\n",
    "        for slot in self.slots:\n",
    "            if slot.is_empty:\n",
    "                yield slot\n",
    "\n",
    "    def park(self, vehicle):\n",
    "        slot = next(self.get_empty_slot)\n",
    "        slot.park(vehicle)\n",
    "\n",
    "    def __len__(self):\n",
    "        return self.no_of_slots\n",
    "        \n",
    "        "
   ]
  },
  {
   "cell_type": "code",
   "execution_count": 97,
   "id": "649a5062-021d-4793-b8c6-7d04481b3ccb",
   "metadata": {},
   "outputs": [],
   "source": [
    "# how many slots are there in the floor?\n",
    "\n",
    "# how many of those slots are empty?\n",
    "\n",
    "# how to park a car in a floor\n",
    "# index based approach\n",
    "# generator based approach\n",
    "\n",
    "# how do we unpark a car"
   ]
  },
  {
   "cell_type": "code",
   "execution_count": 98,
   "id": "1bca3c7d-5c3f-454d-8006-fc2055faf6e0",
   "metadata": {},
   "outputs": [],
   "source": [
    "f1 = ParkingFloor(10)"
   ]
  },
  {
   "cell_type": "code",
   "execution_count": 99,
   "id": "19cb7b3f-35bb-45ca-acfe-33ce05982ab4",
   "metadata": {},
   "outputs": [
    {
     "data": {
      "text/plain": [
       "<__main__.ParkingSlot at 0x11170eba0>"
      ]
     },
     "execution_count": 99,
     "metadata": {},
     "output_type": "execute_result"
    }
   ],
   "source": [
    "next(f1.get_empty_slot)"
   ]
  },
  {
   "cell_type": "code",
   "execution_count": 79,
   "id": "698b1ab4-fdc0-446a-ae50-1bd25e5abdbd",
   "metadata": {},
   "outputs": [
    {
     "data": {
      "text/plain": [
       "10"
      ]
     },
     "execution_count": 79,
     "metadata": {},
     "output_type": "execute_result"
    }
   ],
   "source": [
    "len(f1)"
   ]
  },
  {
   "cell_type": "code",
   "execution_count": null,
   "id": "6219f95f-1557-4f66-8d4c-d100345bac70",
   "metadata": {},
   "outputs": [],
   "source": [
    "# write a vehicle class\n",
    "\n",
    "class Vehicle:\n",
    "    pass"
   ]
  }
 ],
 "metadata": {
  "kernelspec": {
   "display_name": "depths-of-python",
   "language": "python",
   "name": "venv"
  },
  "language_info": {
   "codemirror_mode": {
    "name": "ipython",
    "version": 3
   },
   "file_extension": ".py",
   "mimetype": "text/x-python",
   "name": "python",
   "nbconvert_exporter": "python",
   "pygments_lexer": "ipython3",
   "version": "3.12.10"
  }
 },
 "nbformat": 4,
 "nbformat_minor": 5
}
